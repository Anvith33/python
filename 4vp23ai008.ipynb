{
 "cells": [
  {
   "cell_type": "code",
   "execution_count": 22,
   "id": "816bde61",
   "metadata": {},
   "outputs": [
    {
     "name": "stdout",
     "output_type": "stream",
     "text": [
      "Enter the no. of digits3\n",
      "Enter  a 3-digit integer123\n",
      "1\n",
      "2\n",
      "3\n"
     ]
    }
   ],
   "source": [
    "n=int(input(\"Enter the no. of digits\"))\n",
    "if n>0:\n",
    "    number=int(input(f\"Enter  a {n}-digit integer\"))\n",
    "    if number>=10**(n-1)and number <10**n:\n",
    "                for i in range(n):\n",
    "                     digit=number//(10**(n-1))\n",
    "                     print(digit)\n",
    "                     number%=10**(n-1)\n",
    "                     n-=1\n",
    "    else:\n",
    "        print(f\"please enter a {n}-digit integer\")\n",
    "else:\n",
    "    print(\"please enter a valiid number of digits(greater than 0)\")"
   ]
  },
  {
   "cell_type": "code",
   "execution_count": 28,
   "id": "93373f0b",
   "metadata": {},
   "outputs": [
    {
     "name": "stdout",
     "output_type": "stream",
     "text": [
      "Enter the first number:9\n",
      "Enter the second number:6\n",
      "Enter the third number:8\n",
      "Enter the fourth number:1\n",
      "the sorted number : 9 8 6 1\n"
     ]
    }
   ],
   "source": [
    "a=int(input(\"Enter the first number:\"))\n",
    "b=int(input(\"Enter the second number:\"))\n",
    "c=int(input(\"Enter the third number:\"))\n",
    "d=int(input(\"Enter the fourth number:\"))\n",
    "if a<b:a,b=b,a\n",
    "if c<d:c,d=d,c\n",
    "if a<c:a,c=c,a\n",
    "if b<d:b,d=d,b\n",
    "if b<c:b,c=c,b\n",
    "print(\"the sorted number :\",a,b,c,d)"
   ]
  },
  {
   "cell_type": "code",
   "execution_count": null,
   "id": "9b7ac792",
   "metadata": {},
   "outputs": [],
   "source": []
  }
 ],
 "metadata": {
  "kernelspec": {
   "display_name": "Python 3 (ipykernel)",
   "language": "python",
   "name": "python3"
  },
  "language_info": {
   "codemirror_mode": {
    "name": "ipython",
    "version": 3
   },
   "file_extension": ".py",
   "mimetype": "text/x-python",
   "name": "python",
   "nbconvert_exporter": "python",
   "pygments_lexer": "ipython3",
   "version": "3.10.9"
  }
 },
 "nbformat": 4,
 "nbformat_minor": 5
}
